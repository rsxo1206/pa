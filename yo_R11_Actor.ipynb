{
 "cells": [
  {
   "cell_type": "code",
   "execution_count": 1,
   "metadata": {
    "scrolled": true
   },
   "outputs": [
    {
     "data": {
      "text/plain": [
       "['Critic.pkl', 'dataset.pkl', 'stream_lasso_weight.pkl']"
      ]
     },
     "execution_count": 1,
     "metadata": {},
     "output_type": "execute_result"
    }
   ],
   "source": [
    "import pandas as pd\n",
    "import joblib\n",
    "import numpy as np\n",
    "import pandas as pd\n",
    "from torch import nn\n",
    "import torch\n",
    "import os\n",
    "import torch.optim as optim\n",
    "import warnings\n",
    "from utils import *\n",
    "warnings.simplefilter('ignore')\n",
    "from torch.nn import Linear,ReLU,Sigmoid\n",
    "torch.cuda.is_available()\n",
    "os.listdir('C:/Users/bigje/Desktop/AI中心/yo-jupyter/R11程式/modelpkl')"
   ]
  },
  {
   "cell_type": "code",
   "execution_count": 2,
   "metadata": {},
   "outputs": [
    {
     "data": {
      "text/plain": [
       "['#2反應槽(20200201-20200212)開車資料.csv',\n",
       " '.ipynb_checkpoints',\n",
       " 'modelpkl',\n",
       " 'PA_201605-2020001更新R11(20200801).csv',\n",
       " 'R11註解.txt',\n",
       " 'runs',\n",
       " 'tag_cleaned.csv',\n",
       " 'tag盤點表20200801.csv',\n",
       " 'tag盤點表20200801.xlsx',\n",
       " 'train_cleaned.csv',\n",
       " 'yo_R11_Actor.ipynb',\n",
       " 'yo_R11_API_test.ipynb',\n",
       " 'yo_R11_Critic.ipynb',\n",
       " 'yo_R11_ETL.ipynb',\n",
       " 'yo_R11_preprocessing.ipynb',\n",
       " 'yo_R11_stream_lasso.ipynb',\n",
       " '壓縮檔']"
      ]
     },
     "execution_count": 2,
     "metadata": {},
     "output_type": "execute_result"
    }
   ],
   "source": [
    "os.listdir('C:/Users/bigje/Desktop/AI中心/yo-jupyter/R11程式')"
   ]
  },
  {
   "cell_type": "code",
   "execution_count": 4,
   "metadata": {},
   "outputs": [],
   "source": [
    "tag = pd.read_csv('C:/Users/bigje/Desktop/AI中心/yo-jupyter/R11程式/tag_cleaned.csv')\n",
    "tag_map = dict(zip(tag.TAG,tag.chinese))"
   ]
  },
  {
   "cell_type": "markdown",
   "metadata": {},
   "source": [
    "# load critic , lasso_weight and data"
   ]
  },
  {
   "cell_type": "code",
   "execution_count": 5,
   "metadata": {},
   "outputs": [
    {
     "ename": "AttributeError",
     "evalue": "Can't get attribute 'Critic' on <module '__main__'>",
     "output_type": "error",
     "traceback": [
      "\u001b[1;31m---------------------------------------------------------------------------\u001b[0m",
      "\u001b[1;31mAttributeError\u001b[0m                            Traceback (most recent call last)",
      "\u001b[1;32m<ipython-input-5-fefca2099fe8>\u001b[0m in \u001b[0;36m<module>\u001b[1;34m\u001b[0m\n\u001b[1;32m----> 1\u001b[1;33m \u001b[0mcritic\u001b[0m \u001b[1;33m=\u001b[0m \u001b[0mjoblib\u001b[0m\u001b[1;33m.\u001b[0m\u001b[0mload\u001b[0m\u001b[1;33m(\u001b[0m\u001b[1;34m'C:/Users/bigje/Desktop/AI中心/yo-jupyter/R11程式/modelpkl/Critic.pkl'\u001b[0m\u001b[1;33m)\u001b[0m\u001b[1;33m.\u001b[0m\u001b[0meval\u001b[0m\u001b[1;33m(\u001b[0m\u001b[1;33m)\u001b[0m\u001b[1;33m\u001b[0m\u001b[1;33m\u001b[0m\u001b[0m\n\u001b[0m\u001b[0;32m      2\u001b[0m \u001b[0mlasso_w\u001b[0m \u001b[1;33m=\u001b[0m \u001b[0mtorch\u001b[0m\u001b[1;33m.\u001b[0m\u001b[0mFloatTensor\u001b[0m\u001b[1;33m(\u001b[0m\u001b[0mjoblib\u001b[0m\u001b[1;33m.\u001b[0m\u001b[0mload\u001b[0m\u001b[1;33m(\u001b[0m\u001b[1;34m'C:/Users/bigje/Desktop/AI中心/yo-jupyter/R11程式/modelpkl/stream_lasso_weight.pkl'\u001b[0m\u001b[1;33m)\u001b[0m\u001b[1;33m)\u001b[0m\u001b[1;33m\u001b[0m\u001b[1;33m\u001b[0m\u001b[0m\n",
      "\u001b[1;32mD:\\Anaconda\\python\\lib\\site-packages\\joblib\\numpy_pickle.py\u001b[0m in \u001b[0;36mload\u001b[1;34m(filename, mmap_mode)\u001b[0m\n\u001b[0;32m    583\u001b[0m                     \u001b[1;32mreturn\u001b[0m \u001b[0mload_compatibility\u001b[0m\u001b[1;33m(\u001b[0m\u001b[0mfobj\u001b[0m\u001b[1;33m)\u001b[0m\u001b[1;33m\u001b[0m\u001b[1;33m\u001b[0m\u001b[0m\n\u001b[0;32m    584\u001b[0m \u001b[1;33m\u001b[0m\u001b[0m\n\u001b[1;32m--> 585\u001b[1;33m                 \u001b[0mobj\u001b[0m \u001b[1;33m=\u001b[0m \u001b[0m_unpickle\u001b[0m\u001b[1;33m(\u001b[0m\u001b[0mfobj\u001b[0m\u001b[1;33m,\u001b[0m \u001b[0mfilename\u001b[0m\u001b[1;33m,\u001b[0m \u001b[0mmmap_mode\u001b[0m\u001b[1;33m)\u001b[0m\u001b[1;33m\u001b[0m\u001b[1;33m\u001b[0m\u001b[0m\n\u001b[0m\u001b[0;32m    586\u001b[0m     \u001b[1;32mreturn\u001b[0m \u001b[0mobj\u001b[0m\u001b[1;33m\u001b[0m\u001b[1;33m\u001b[0m\u001b[0m\n",
      "\u001b[1;32mD:\\Anaconda\\python\\lib\\site-packages\\joblib\\numpy_pickle.py\u001b[0m in \u001b[0;36m_unpickle\u001b[1;34m(fobj, filename, mmap_mode)\u001b[0m\n\u001b[0;32m    502\u001b[0m     \u001b[0mobj\u001b[0m \u001b[1;33m=\u001b[0m \u001b[1;32mNone\u001b[0m\u001b[1;33m\u001b[0m\u001b[1;33m\u001b[0m\u001b[0m\n\u001b[0;32m    503\u001b[0m     \u001b[1;32mtry\u001b[0m\u001b[1;33m:\u001b[0m\u001b[1;33m\u001b[0m\u001b[1;33m\u001b[0m\u001b[0m\n\u001b[1;32m--> 504\u001b[1;33m         \u001b[0mobj\u001b[0m \u001b[1;33m=\u001b[0m \u001b[0munpickler\u001b[0m\u001b[1;33m.\u001b[0m\u001b[0mload\u001b[0m\u001b[1;33m(\u001b[0m\u001b[1;33m)\u001b[0m\u001b[1;33m\u001b[0m\u001b[1;33m\u001b[0m\u001b[0m\n\u001b[0m\u001b[0;32m    505\u001b[0m         \u001b[1;32mif\u001b[0m \u001b[0munpickler\u001b[0m\u001b[1;33m.\u001b[0m\u001b[0mcompat_mode\u001b[0m\u001b[1;33m:\u001b[0m\u001b[1;33m\u001b[0m\u001b[1;33m\u001b[0m\u001b[0m\n\u001b[0;32m    506\u001b[0m             warnings.warn(\"The file '%s' has been generated with a \"\n",
      "\u001b[1;32mD:\\Anaconda\\python\\lib\\pickle.py\u001b[0m in \u001b[0;36mload\u001b[1;34m(self)\u001b[0m\n\u001b[0;32m   1208\u001b[0m                     \u001b[1;32mraise\u001b[0m \u001b[0mEOFError\u001b[0m\u001b[1;33m\u001b[0m\u001b[1;33m\u001b[0m\u001b[0m\n\u001b[0;32m   1209\u001b[0m                 \u001b[1;32massert\u001b[0m \u001b[0misinstance\u001b[0m\u001b[1;33m(\u001b[0m\u001b[0mkey\u001b[0m\u001b[1;33m,\u001b[0m \u001b[0mbytes_types\u001b[0m\u001b[1;33m)\u001b[0m\u001b[1;33m\u001b[0m\u001b[1;33m\u001b[0m\u001b[0m\n\u001b[1;32m-> 1210\u001b[1;33m                 \u001b[0mdispatch\u001b[0m\u001b[1;33m[\u001b[0m\u001b[0mkey\u001b[0m\u001b[1;33m[\u001b[0m\u001b[1;36m0\u001b[0m\u001b[1;33m]\u001b[0m\u001b[1;33m]\u001b[0m\u001b[1;33m(\u001b[0m\u001b[0mself\u001b[0m\u001b[1;33m)\u001b[0m\u001b[1;33m\u001b[0m\u001b[1;33m\u001b[0m\u001b[0m\n\u001b[0m\u001b[0;32m   1211\u001b[0m         \u001b[1;32mexcept\u001b[0m \u001b[0m_Stop\u001b[0m \u001b[1;32mas\u001b[0m \u001b[0mstopinst\u001b[0m\u001b[1;33m:\u001b[0m\u001b[1;33m\u001b[0m\u001b[1;33m\u001b[0m\u001b[0m\n\u001b[0;32m   1212\u001b[0m             \u001b[1;32mreturn\u001b[0m \u001b[0mstopinst\u001b[0m\u001b[1;33m.\u001b[0m\u001b[0mvalue\u001b[0m\u001b[1;33m\u001b[0m\u001b[1;33m\u001b[0m\u001b[0m\n",
      "\u001b[1;32mD:\\Anaconda\\python\\lib\\pickle.py\u001b[0m in \u001b[0;36mload_stack_global\u001b[1;34m(self)\u001b[0m\n\u001b[0;32m   1533\u001b[0m         \u001b[1;32mif\u001b[0m \u001b[0mtype\u001b[0m\u001b[1;33m(\u001b[0m\u001b[0mname\u001b[0m\u001b[1;33m)\u001b[0m \u001b[1;32mis\u001b[0m \u001b[1;32mnot\u001b[0m \u001b[0mstr\u001b[0m \u001b[1;32mor\u001b[0m \u001b[0mtype\u001b[0m\u001b[1;33m(\u001b[0m\u001b[0mmodule\u001b[0m\u001b[1;33m)\u001b[0m \u001b[1;32mis\u001b[0m \u001b[1;32mnot\u001b[0m \u001b[0mstr\u001b[0m\u001b[1;33m:\u001b[0m\u001b[1;33m\u001b[0m\u001b[1;33m\u001b[0m\u001b[0m\n\u001b[0;32m   1534\u001b[0m             \u001b[1;32mraise\u001b[0m \u001b[0mUnpicklingError\u001b[0m\u001b[1;33m(\u001b[0m\u001b[1;34m\"STACK_GLOBAL requires str\"\u001b[0m\u001b[1;33m)\u001b[0m\u001b[1;33m\u001b[0m\u001b[1;33m\u001b[0m\u001b[0m\n\u001b[1;32m-> 1535\u001b[1;33m         \u001b[0mself\u001b[0m\u001b[1;33m.\u001b[0m\u001b[0mappend\u001b[0m\u001b[1;33m(\u001b[0m\u001b[0mself\u001b[0m\u001b[1;33m.\u001b[0m\u001b[0mfind_class\u001b[0m\u001b[1;33m(\u001b[0m\u001b[0mmodule\u001b[0m\u001b[1;33m,\u001b[0m \u001b[0mname\u001b[0m\u001b[1;33m)\u001b[0m\u001b[1;33m)\u001b[0m\u001b[1;33m\u001b[0m\u001b[1;33m\u001b[0m\u001b[0m\n\u001b[0m\u001b[0;32m   1536\u001b[0m     \u001b[0mdispatch\u001b[0m\u001b[1;33m[\u001b[0m\u001b[0mSTACK_GLOBAL\u001b[0m\u001b[1;33m[\u001b[0m\u001b[1;36m0\u001b[0m\u001b[1;33m]\u001b[0m\u001b[1;33m]\u001b[0m \u001b[1;33m=\u001b[0m \u001b[0mload_stack_global\u001b[0m\u001b[1;33m\u001b[0m\u001b[1;33m\u001b[0m\u001b[0m\n\u001b[0;32m   1537\u001b[0m \u001b[1;33m\u001b[0m\u001b[0m\n",
      "\u001b[1;32mD:\\Anaconda\\python\\lib\\pickle.py\u001b[0m in \u001b[0;36mfind_class\u001b[1;34m(self, module, name)\u001b[0m\n\u001b[0;32m   1577\u001b[0m         \u001b[0m__import__\u001b[0m\u001b[1;33m(\u001b[0m\u001b[0mmodule\u001b[0m\u001b[1;33m,\u001b[0m \u001b[0mlevel\u001b[0m\u001b[1;33m=\u001b[0m\u001b[1;36m0\u001b[0m\u001b[1;33m)\u001b[0m\u001b[1;33m\u001b[0m\u001b[1;33m\u001b[0m\u001b[0m\n\u001b[0;32m   1578\u001b[0m         \u001b[1;32mif\u001b[0m \u001b[0mself\u001b[0m\u001b[1;33m.\u001b[0m\u001b[0mproto\u001b[0m \u001b[1;33m>=\u001b[0m \u001b[1;36m4\u001b[0m\u001b[1;33m:\u001b[0m\u001b[1;33m\u001b[0m\u001b[1;33m\u001b[0m\u001b[0m\n\u001b[1;32m-> 1579\u001b[1;33m             \u001b[1;32mreturn\u001b[0m \u001b[0m_getattribute\u001b[0m\u001b[1;33m(\u001b[0m\u001b[0msys\u001b[0m\u001b[1;33m.\u001b[0m\u001b[0mmodules\u001b[0m\u001b[1;33m[\u001b[0m\u001b[0mmodule\u001b[0m\u001b[1;33m]\u001b[0m\u001b[1;33m,\u001b[0m \u001b[0mname\u001b[0m\u001b[1;33m)\u001b[0m\u001b[1;33m[\u001b[0m\u001b[1;36m0\u001b[0m\u001b[1;33m]\u001b[0m\u001b[1;33m\u001b[0m\u001b[1;33m\u001b[0m\u001b[0m\n\u001b[0m\u001b[0;32m   1580\u001b[0m         \u001b[1;32melse\u001b[0m\u001b[1;33m:\u001b[0m\u001b[1;33m\u001b[0m\u001b[1;33m\u001b[0m\u001b[0m\n\u001b[0;32m   1581\u001b[0m             \u001b[1;32mreturn\u001b[0m \u001b[0mgetattr\u001b[0m\u001b[1;33m(\u001b[0m\u001b[0msys\u001b[0m\u001b[1;33m.\u001b[0m\u001b[0mmodules\u001b[0m\u001b[1;33m[\u001b[0m\u001b[0mmodule\u001b[0m\u001b[1;33m]\u001b[0m\u001b[1;33m,\u001b[0m \u001b[0mname\u001b[0m\u001b[1;33m)\u001b[0m\u001b[1;33m\u001b[0m\u001b[1;33m\u001b[0m\u001b[0m\n",
      "\u001b[1;32mD:\\Anaconda\\python\\lib\\pickle.py\u001b[0m in \u001b[0;36m_getattribute\u001b[1;34m(obj, name)\u001b[0m\n\u001b[0;32m    329\u001b[0m             \u001b[0mobj\u001b[0m \u001b[1;33m=\u001b[0m \u001b[0mgetattr\u001b[0m\u001b[1;33m(\u001b[0m\u001b[0mobj\u001b[0m\u001b[1;33m,\u001b[0m \u001b[0msubpath\u001b[0m\u001b[1;33m)\u001b[0m\u001b[1;33m\u001b[0m\u001b[1;33m\u001b[0m\u001b[0m\n\u001b[0;32m    330\u001b[0m         \u001b[1;32mexcept\u001b[0m \u001b[0mAttributeError\u001b[0m\u001b[1;33m:\u001b[0m\u001b[1;33m\u001b[0m\u001b[1;33m\u001b[0m\u001b[0m\n\u001b[1;32m--> 331\u001b[1;33m             raise AttributeError(\"Can't get attribute {!r} on {!r}\"\n\u001b[0m\u001b[0;32m    332\u001b[0m                                  .format(name, obj)) from None\n\u001b[0;32m    333\u001b[0m     \u001b[1;32mreturn\u001b[0m \u001b[0mobj\u001b[0m\u001b[1;33m,\u001b[0m \u001b[0mparent\u001b[0m\u001b[1;33m\u001b[0m\u001b[1;33m\u001b[0m\u001b[0m\n",
      "\u001b[1;31mAttributeError\u001b[0m: Can't get attribute 'Critic' on <module '__main__'>"
     ]
    }
   ],
   "source": [
    "critic = joblib.load('C:/Users/bigje/Desktop/AI中心/yo-jupyter/R11程式/modelpkl/Critic.pkl').eval()\n",
    "lasso_w = torch.FloatTensor(joblib.load('C:/Users/bigje/Desktop/AI中心/yo-jupyter/R11程式/modelpkl/stream_lasso_weight.pkl'))"
   ]
  },
  {
   "cell_type": "code",
   "execution_count": 5,
   "metadata": {},
   "outputs": [
    {
     "data": {
      "text/plain": [
       "dict_keys(['state', 'action', 'output', 'stream', 'idx', 'mm_state', 'mm_action', 'mm_output', 'mm_stream', 'state_col', 'action_col', 'output_col', 'stream_col'])"
      ]
     },
     "execution_count": 5,
     "metadata": {},
     "output_type": "execute_result"
    }
   ],
   "source": [
    "data = joblib.load('C:/Users/bigje/Desktop/AI中心/yo-jupyter/R11程式/modelpkl/dataset.pkl')\n",
    "data.keys()"
   ]
  },
  {
   "cell_type": "markdown",
   "metadata": {},
   "source": [
    "# data iter"
   ]
  },
  {
   "cell_type": "code",
   "execution_count": 6,
   "metadata": {},
   "outputs": [
    {
     "data": {
      "text/plain": [
       "(torch.Size([87789, 2]), torch.Size([87789, 1]), torch.Size([87789, 36, 12]))"
      ]
     },
     "execution_count": 6,
     "metadata": {},
     "output_type": "execute_result"
    }
   ],
   "source": [
    "state = torch.FloatTensor(data['state'])\n",
    "request = torch.FloatTensor(np.random.uniform(0,1,size=(state.shape[0],1)))\n",
    "real_action = torch.FloatTensor(data['action'])\n",
    "state.shape,request.shape,real_action.shape"
   ]
  },
  {
   "cell_type": "code",
   "execution_count": 7,
   "metadata": {},
   "outputs": [],
   "source": [
    "train = torch.utils.data.TensorDataset(state,request,real_action)\n",
    "train_iter = torch.utils.data.DataLoader(train, batch_size=256, shuffle=True)"
   ]
  },
  {
   "cell_type": "markdown",
   "metadata": {},
   "source": [
    "# Construct the neural network"
   ]
  },
  {
   "cell_type": "code",
   "execution_count": 8,
   "metadata": {},
   "outputs": [
    {
     "data": {
      "text/plain": [
       "(87789, 36, 12)"
      ]
     },
     "execution_count": 8,
     "metadata": {},
     "output_type": "execute_result"
    }
   ],
   "source": [
    "data['action'].shape"
   ]
  },
  {
   "cell_type": "code",
   "execution_count": 9,
   "metadata": {},
   "outputs": [],
   "source": [
    "class Actor(nn.Module):\n",
    "    def __init__(self):\n",
    "        super().__init__()\n",
    "        self.time_step = data['action'].shape[1]\n",
    "        self.num_sensor = data['action'].shape[2]\n",
    "        self.flat_size = self.time_step*self.num_sensor\n",
    "        self.fc = nn.Sequential(nn.Linear(3,128),nn.ReLU(),nn.Linear(128,self.flat_size))\n",
    "        \n",
    "    def forward(self,state,request):\n",
    "        action = self.fc(torch.cat((state,request),dim=1))\n",
    "        action = action.view(-1,self.time_step,self.num_sensor)\n",
    "        return F.sigmoid(action)"
   ]
  },
  {
   "cell_type": "code",
   "execution_count": 10,
   "metadata": {},
   "outputs": [],
   "source": [
    "def init_weights(m):\n",
    "    if hasattr(m,'weight'):\n",
    "        try:\n",
    "            #torch.nn.init.xavier_uniform(m.weight)\n",
    "            torch.nn.init.kaming_uniform(m.weight)\n",
    "        except:\n",
    "            pass\n",
    "    \n",
    "    if hasattr(m,'bias'):\n",
    "        try:\n",
    "            m.bias.data.fill_(0)\n",
    "        except:\n",
    "            pass"
   ]
  },
  {
   "cell_type": "code",
   "execution_count": 11,
   "metadata": {},
   "outputs": [
    {
     "data": {
      "text/plain": [
       "Actor(\n",
       "  (fc): Sequential(\n",
       "    (0): Linear(in_features=3, out_features=128, bias=True)\n",
       "    (1): ReLU()\n",
       "    (2): Linear(in_features=128, out_features=432, bias=True)\n",
       "  )\n",
       ")"
      ]
     },
     "execution_count": 11,
     "metadata": {},
     "output_type": "execute_result"
    }
   ],
   "source": [
    "net = Actor()\n",
    "net.apply(init_weights)"
   ]
  },
  {
   "cell_type": "markdown",
   "metadata": {},
   "source": [
    "# forward test"
   ]
  },
  {
   "cell_type": "code",
   "execution_count": 12,
   "metadata": {},
   "outputs": [
    {
     "name": "stdout",
     "output_type": "stream",
     "text": [
      "torch.Size([87789, 36, 12])\n"
     ]
    }
   ],
   "source": [
    "print(net(state,request).shape)"
   ]
  },
  {
   "cell_type": "markdown",
   "metadata": {},
   "source": [
    "# objective"
   ]
  },
  {
   "cell_type": "code",
   "execution_count": 13,
   "metadata": {},
   "outputs": [
    {
     "name": "stdout",
     "output_type": "stream",
     "text": [
      "36 12\n"
     ]
    }
   ],
   "source": [
    "time_step = data['action'].shape[1]\n",
    "num_sensor = data['action'].shape[2]\n",
    "print(time_step, num_sensor)"
   ]
  },
  {
   "cell_type": "code",
   "execution_count": 14,
   "metadata": {},
   "outputs": [],
   "source": [
    "loss_history = {}\n",
    "loss_history['loss1'] = []\n",
    "loss_history['loss2'] = []\n",
    "loss_history['loss3'] = []\n",
    "loss_history['loss4'] = []\n",
    "loss_history['loss5'] = []\n",
    "loss_history['loss6'] = []\n",
    "loss_history['loss7'] = []\n",
    "loss_history['loss8'] = []"
   ]
  },
  {
   "cell_type": "code",
   "execution_count": 15,
   "metadata": {},
   "outputs": [],
   "source": [
    "def obj_function(action,state,request,real_action):\n",
    "    \n",
    "    # critic predict 0997(output) but not predict stream\n",
    "    output, _ = critic(state.cuda(),action.cuda())\n",
    "    output = output.cpu()\n",
    "    \n",
    "    # only use lasso_w predict stream\n",
    "    batch_size = action.shape[0]\n",
    "    A = torch.cat((action.reshape(batch_size,-1),state),dim=-1)\n",
    "    stream = (A@lasso_w).reshape(-1,1)\n",
    "    \n",
    "    # 滿足使用者需求(出料等於期望出料)\n",
    "    loss1 = ((request - output)**2).mean()\n",
    "    \n",
    "    # 最小化蒸氣量(愈小愈好)\n",
    "    loss2 = (stream**2).mean()\n",
    "    \n",
    "    # 入料跟出料\"質量平衡\" #最小化單耗\n",
    "    feed = action.reshape(-1,time_step,num_sensor)[:,:,0]\n",
    "    loss3 = ((0.8*feed - request)**2).mean()\n",
    "    loss8 = (((feed/output) - 0.9)**2).mean()\n",
    "    \n",
    "    # 避免鹽浴\"溫差太大\"\n",
    "    temp_1 = action.reshape(-1,time_step,num_sensor)[:,:,4]\n",
    "    temp_2 = action.reshape(-1,time_step,num_sensor)[:,:,-2]\n",
    "    loss4 = ((temp_1 - temp_2)**2).mean()\n",
    "    \n",
    "    # 避免\"變異數太大(時間維度上)\"\n",
    "    loss5 = action.reshape(-1,time_step,num_sensor).std(axis=1)\n",
    "    loss5 = loss5.sum(axis=-1).mean(axis=0) # instance wise => batch wise\n",
    "    \n",
    "    #濃度盡量接近90\n",
    "    loss6 = (action.reshape(-1,time_step,num_sensor)[:,:,-1] - 0.9)**2\n",
    "    loss6 = loss6.mean()\n",
    "    \n",
    "    #避免action跟實際歷史數據差距太大\n",
    "    loss7 = F.softplus((action.reshape(-1)-real_action.reshape(-1))**2 - 0.1,beta=5).mean()\n",
    "    \n",
    "    # 紀錄\n",
    "    loss_history['loss1'].append(loss1.item())\n",
    "    loss_history['loss2'].append(loss2.item())\n",
    "    loss_history['loss3'].append(loss3.item())\n",
    "    loss_history['loss4'].append(loss4.item())\n",
    "    loss_history['loss5'].append(loss5.item())\n",
    "    loss_history['loss6'].append(loss6.item())\n",
    "    loss_history['loss7'].append(loss7.item())\n",
    "    loss_history['loss8'].append(loss8.item())\n",
    "    \n",
    "    #由於最小化蒸氣量會導致入料跟著最小化會出問題 故將loss2*0\n",
    "    return loss1 + 0*loss2 + 5*loss3 + loss4 + loss5 + loss6 + loss7 + 5*loss8"
   ]
  },
  {
   "cell_type": "code",
   "execution_count": 16,
   "metadata": {},
   "outputs": [
    {
     "data": {
      "text/plain": [
       "tensor(1.2104, grad_fn=<AddBackward0>)"
      ]
     },
     "execution_count": 16,
     "metadata": {},
     "output_type": "execute_result"
    }
   ],
   "source": [
    "obj_function(net(state,request),state,request,real_action)"
   ]
  },
  {
   "cell_type": "markdown",
   "metadata": {},
   "source": [
    "# optimizer"
   ]
  },
  {
   "cell_type": "code",
   "execution_count": 17,
   "metadata": {},
   "outputs": [],
   "source": [
    "optimizer = optim.Adam(net.parameters(),lr=1e-4)"
   ]
  },
  {
   "cell_type": "markdown",
   "metadata": {},
   "source": [
    "# train loop"
   ]
  },
  {
   "cell_type": "code",
   "execution_count": 18,
   "metadata": {},
   "outputs": [],
   "source": [
    "def train(net,train_iter,obj_function,optimizer,num_epochs=100):\n",
    "    train_history = []\n",
    "    for epoch in range(num_epochs):\n",
    "        train_avg_loss = 0\n",
    "        t = 0\n",
    "        \n",
    "        for state,request,real_action in train_iter:\n",
    "            action = net(\n",
    "                state,request)\n",
    "            loss = obj_function(action,state,request,real_action)\n",
    "            loss.backward()\n",
    "            optimizer.step()\n",
    "            optimizer.zero_grad()\n",
    "            train_avg_loss += loss.item()\n",
    "            t += 1\n",
    "        \n",
    "        train_avg_loss /= t\n",
    "        print(\"epochs {} loss {:.4f}\".format(epoch,train_avg_loss))\n",
    "        train_history.append(train_avg_loss)\n",
    "    \n",
    "    # plt train loss\n",
    "    plt.plot(np.array(train_history))\n",
    "    plt.title('train loss')\n",
    "    return net"
   ]
  },
  {
   "cell_type": "code",
   "execution_count": 19,
   "metadata": {},
   "outputs": [
    {
     "name": "stdout",
     "output_type": "stream",
     "text": [
      "epochs 0 loss 0.8769\n",
      "epochs 1 loss 0.5834\n",
      "epochs 2 loss 0.4150\n",
      "epochs 3 loss 0.2997\n",
      "epochs 4 loss 0.2589\n",
      "epochs 5 loss 0.2407\n",
      "epochs 6 loss 0.2301\n",
      "epochs 7 loss 0.2230\n",
      "epochs 8 loss 0.2179\n",
      "epochs 9 loss 0.2141\n",
      "epochs 10 loss 0.2114\n",
      "epochs 11 loss 0.2093\n",
      "epochs 12 loss 0.2077\n",
      "epochs 13 loss 0.2064\n",
      "epochs 14 loss 0.2053\n",
      "epochs 15 loss 0.2043\n",
      "epochs 16 loss 0.2035\n",
      "epochs 17 loss 0.2027\n",
      "epochs 18 loss 0.2021\n",
      "epochs 19 loss 0.2014\n",
      "epochs 20 loss 0.2008\n",
      "epochs 21 loss 0.2003\n",
      "epochs 22 loss 0.1998\n",
      "epochs 23 loss 0.1993\n",
      "epochs 24 loss 0.1988\n",
      "epochs 25 loss 0.1984\n",
      "epochs 26 loss 0.1980\n",
      "epochs 27 loss 0.1976\n",
      "epochs 28 loss 0.1973\n",
      "epochs 29 loss 0.1969\n",
      "epochs 30 loss 0.1965\n",
      "epochs 31 loss 0.1962\n",
      "epochs 32 loss 0.1959\n",
      "epochs 33 loss 0.1956\n",
      "epochs 34 loss 0.1953\n",
      "epochs 35 loss 0.1951\n",
      "epochs 36 loss 0.1948\n",
      "epochs 37 loss 0.1945\n",
      "epochs 38 loss 0.1943\n",
      "epochs 39 loss 0.1941\n",
      "epochs 40 loss 0.1938\n",
      "epochs 41 loss 0.1936\n",
      "epochs 42 loss 0.1934\n",
      "epochs 43 loss 0.1932\n",
      "epochs 44 loss 0.1930\n",
      "epochs 45 loss 0.1928\n",
      "epochs 46 loss 0.1927\n",
      "epochs 47 loss 0.1923\n",
      "epochs 48 loss 0.1920\n",
      "epochs 49 loss 0.1918\n",
      "epochs 50 loss 0.1916\n",
      "epochs 51 loss 0.1914\n",
      "epochs 52 loss 0.1912\n",
      "epochs 53 loss 0.1910\n",
      "epochs 54 loss 0.1909\n",
      "epochs 55 loss 0.1907\n",
      "epochs 56 loss 0.1905\n",
      "epochs 57 loss 0.1904\n",
      "epochs 58 loss 0.1902\n",
      "epochs 59 loss 0.1901\n",
      "epochs 60 loss 0.1900\n",
      "epochs 61 loss 0.1898\n",
      "epochs 62 loss 0.1897\n",
      "epochs 63 loss 0.1896\n",
      "epochs 64 loss 0.1894\n",
      "epochs 65 loss 0.1893\n",
      "epochs 66 loss 0.1892\n",
      "epochs 67 loss 0.1891\n",
      "epochs 68 loss 0.1890\n",
      "epochs 69 loss 0.1889\n",
      "epochs 70 loss 0.1888\n",
      "epochs 71 loss 0.1887\n",
      "epochs 72 loss 0.1886\n",
      "epochs 73 loss 0.1885\n",
      "epochs 74 loss 0.1884\n",
      "epochs 75 loss 0.1883\n",
      "epochs 76 loss 0.1882\n",
      "epochs 77 loss 0.1881\n",
      "epochs 78 loss 0.1880\n",
      "epochs 79 loss 0.1880\n",
      "epochs 80 loss 0.1879\n",
      "epochs 81 loss 0.1878\n",
      "epochs 82 loss 0.1877\n",
      "epochs 83 loss 0.1877\n",
      "epochs 84 loss 0.1876\n",
      "epochs 85 loss 0.1875\n",
      "epochs 86 loss 0.1874\n",
      "epochs 87 loss 0.1873\n",
      "epochs 88 loss 0.1873\n",
      "epochs 89 loss 0.1872\n",
      "epochs 90 loss 0.1871\n",
      "epochs 91 loss 0.1871\n",
      "epochs 92 loss 0.1870\n",
      "epochs 93 loss 0.1870\n",
      "epochs 94 loss 0.1869\n",
      "epochs 95 loss 0.1868\n",
      "epochs 96 loss 0.1868\n",
      "epochs 97 loss 0.1867\n",
      "epochs 98 loss 0.1867\n",
      "epochs 99 loss 0.1866\n",
      "epochs 100 loss 0.1866\n",
      "epochs 101 loss 0.1865\n",
      "epochs 102 loss 0.1865\n",
      "epochs 103 loss 0.1864\n",
      "epochs 104 loss 0.1864\n",
      "epochs 105 loss 0.1863\n",
      "epochs 106 loss 0.1863\n",
      "epochs 107 loss 0.1862\n",
      "epochs 108 loss 0.1862\n",
      "epochs 109 loss 0.1861\n",
      "epochs 110 loss 0.1861\n",
      "epochs 111 loss 0.1860\n",
      "epochs 112 loss 0.1860\n",
      "epochs 113 loss 0.1860\n",
      "epochs 114 loss 0.1859\n",
      "epochs 115 loss 0.1859\n",
      "epochs 116 loss 0.1858\n",
      "epochs 117 loss 0.1858\n",
      "epochs 118 loss 0.1858\n",
      "epochs 119 loss 0.1857\n",
      "epochs 120 loss 0.1857\n",
      "epochs 121 loss 0.1857\n",
      "epochs 122 loss 0.1856\n",
      "epochs 123 loss 0.1856\n",
      "epochs 124 loss 0.1855\n",
      "epochs 125 loss 0.1855\n",
      "epochs 126 loss 0.1855\n",
      "epochs 127 loss 0.1855\n",
      "epochs 128 loss 0.1854\n",
      "epochs 129 loss 0.1854\n",
      "epochs 130 loss 0.1853\n",
      "epochs 131 loss 0.1853\n",
      "epochs 132 loss 0.1853\n",
      "epochs 133 loss 0.1853\n",
      "epochs 134 loss 0.1852\n",
      "epochs 135 loss 0.1852\n",
      "epochs 136 loss 0.1852\n",
      "epochs 137 loss 0.1852\n",
      "epochs 138 loss 0.1851\n",
      "epochs 139 loss 0.1851\n",
      "epochs 140 loss 0.1851\n",
      "epochs 141 loss 0.1851\n",
      "epochs 142 loss 0.1850\n",
      "epochs 143 loss 0.1850\n",
      "epochs 144 loss 0.1850\n",
      "epochs 145 loss 0.1850\n",
      "epochs 146 loss 0.1849\n",
      "epochs 147 loss 0.1849\n",
      "epochs 148 loss 0.1849\n",
      "epochs 149 loss 0.1849\n",
      "epochs 150 loss 0.1849\n",
      "epochs 151 loss 0.1848\n",
      "epochs 152 loss 0.1848\n",
      "epochs 153 loss 0.1848\n",
      "epochs 154 loss 0.1848\n",
      "epochs 155 loss 0.1847\n",
      "epochs 156 loss 0.1847\n",
      "epochs 157 loss 0.1847\n",
      "epochs 158 loss 0.1847\n",
      "epochs 159 loss 0.1847\n",
      "epochs 160 loss 0.1846\n",
      "epochs 161 loss 0.1846\n",
      "epochs 162 loss 0.1846\n",
      "epochs 163 loss 0.1846\n",
      "epochs 164 loss 0.1846\n",
      "epochs 165 loss 0.1846\n",
      "epochs 166 loss 0.1845\n",
      "epochs 167 loss 0.1845\n",
      "epochs 168 loss 0.1845\n",
      "epochs 169 loss 0.1845\n",
      "epochs 170 loss 0.1845\n",
      "epochs 171 loss 0.1845\n",
      "epochs 172 loss 0.1844\n",
      "epochs 173 loss 0.1844\n",
      "epochs 174 loss 0.1844\n",
      "epochs 175 loss 0.1844\n",
      "epochs 176 loss 0.1844\n",
      "epochs 177 loss 0.1844\n",
      "epochs 178 loss 0.1844\n",
      "epochs 179 loss 0.1843\n",
      "epochs 180 loss 0.1843\n",
      "epochs 181 loss 0.1843\n",
      "epochs 182 loss 0.1843\n",
      "epochs 183 loss 0.1843\n",
      "epochs 184 loss 0.1843\n",
      "epochs 185 loss 0.1843\n",
      "epochs 186 loss 0.1843\n",
      "epochs 187 loss 0.1843\n",
      "epochs 188 loss 0.1842\n",
      "epochs 189 loss 0.1842\n",
      "epochs 190 loss 0.1842\n",
      "epochs 191 loss 0.1842\n",
      "epochs 192 loss 0.1842\n",
      "epochs 193 loss 0.1842\n",
      "epochs 194 loss 0.1842\n",
      "epochs 195 loss 0.1842\n",
      "epochs 196 loss 0.1842\n",
      "epochs 197 loss 0.1841\n",
      "epochs 198 loss 0.1841\n",
      "epochs 199 loss 0.1841\n"
     ]
    },
    {
     "data": {
      "image/png": "[encoded data removed]",
      "text/plain": [
       "<Figure size 432x288 with 1 Axes>"
      ]
     },
     "metadata": {
      "needs_background": "light"
     },
     "output_type": "display_data"
    }
   ],
   "source": [
    "actor = train(net,train_iter,obj_function,optimizer,num_epochs=200)"
   ]
  },
  {
   "cell_type": "code",
   "execution_count": 20,
   "metadata": {},
   "outputs": [
    {
     "data": {
      "image/png": "[encoded data removed]",
      "text/plain": [
       "<Figure size 432x288 with 1 Axes>"
      ]
     },
     "metadata": {
      "needs_background": "light"
     },
     "output_type": "display_data"
    }
   ],
   "source": [
    "for k,v in loss_history.items():\n",
    "    plt.plot(pd.Series(v).rolling(5).mean(),label=k)\n",
    "plt.legend()\n",
    "plt.show()"
   ]
  },
  {
   "cell_type": "markdown",
   "metadata": {},
   "source": [
    "# build api"
   ]
  },
  {
   "cell_type": "code",
   "execution_count": 21,
   "metadata": {},
   "outputs": [],
   "source": [
    "class PA_ROBOT:\n",
    "    def __init__(self):\n",
    "        self.mm_output = data['mm_output']\n",
    "        self.mm_stream = data['mm_stream']\n",
    "        self.mm_state = data['mm_state']\n",
    "        self.mm_action = data['mm_action']\n",
    "        self.action_col = data['action_col']\n",
    "        self.tag_map = tag_map\n",
    "        self.actor = actor\n",
    "        self.critic = critic\n",
    "        self.lasso_w = lasso_w\n",
    "    \n",
    "    def get_advice(self,state,request):\n",
    "        \n",
    "        # sacle input\n",
    "        request = self.mm_output.transform([[request]])\n",
    "        state = self.mm_state.transform([state])\n",
    "        \n",
    "        # tensor format input\n",
    "        request = torch.FloatTensor([request]).reshape(-1,1)\n",
    "        state = torch.FloatTensor(state)\n",
    "        \n",
    "        # actor forward\n",
    "        action = self.actor(state,request)\n",
    "        \n",
    "        # critic forward but not predict stream\n",
    "        output,_ = self.critic(state.cuda(),action.cuda())\n",
    "        \n",
    "        # lasso predict stream\n",
    "        batch_size = action.shape[0]\n",
    "        A = torch.cat((action.reshape(batch_size,-1),state),dim=-1)\n",
    "        stream = (A@lasso_w).reshape(-1,1)\n",
    "        \n",
    "        # inverse transform\n",
    "        output = output.detach().cpu().numpy()\n",
    "        output = self.mm_output.inverse_transform(output)\n",
    "        stream = stream.detach().cpu().numpy()\n",
    "        stream = self.mm_stream.inverse_transform(stream)\n",
    "        action = action.detach().cpu().numpy()\n",
    "        action = np.array([self.mm_action.inverse_transform(i) for i in action]).squeeze(0)\n",
    "        \n",
    "        # create advice DataFrame\n",
    "        advice = pd.DataFrame(index = self.action_col)\n",
    "        advice['chinese'] = advice.index.map(self.tag_map) \n",
    "        advice['mean'] = action.mean(axis=0)\n",
    "        advice['max'] = action.max(axis=0)\n",
    "        advice['min'] = action.min(axis=0)\n",
    "        \n",
    "        # feed\n",
    "        feed = advice.loc['MLPAP_FQ-0619.PV','mean']\n",
    "        return advice,output,stream,feed/output[0][0],feed/stream[0][0]"
   ]
  },
  {
   "cell_type": "code",
   "execution_count": 22,
   "metadata": {},
   "outputs": [],
   "source": [
    "robot = PA_ROBOT()"
   ]
  },
  {
   "cell_type": "code",
   "execution_count": 23,
   "metadata": {},
   "outputs": [
    {
     "name": "stdout",
     "output_type": "stream",
     "text": [
      "output: [[8585.905]] stream: [[47776.707]] 單耗 0.8944842 蒸氣單耗 0.16074687\n"
     ]
    },
    {
     "data": {
      "text/html": [
       "<div>\n",
       "<style scoped>\n",
       "    .dataframe tbody tr th:only-of-type {\n",
       "        vertical-align: middle;\n",
       "    }\n",
       "\n",
       "    .dataframe tbody tr th {\n",
       "        vertical-align: top;\n",
       "    }\n",
       "\n",
       "    .dataframe thead th {\n",
       "        text-align: right;\n",
       "    }\n",
       "</style>\n",
       "<table border=\"1\" class=\"dataframe\">\n",
       "  <thead>\n",
       "    <tr style=\"text-align: right;\">\n",
       "      <th></th>\n",
       "      <th>chinese</th>\n",
       "      <th>mean</th>\n",
       "      <th>max</th>\n",
       "      <th>min</th>\n",
       "    </tr>\n",
       "  </thead>\n",
       "  <tbody>\n",
       "    <tr>\n",
       "      <th>MLPAP_FQ-0619.PV</th>\n",
       "      <td>OX入料量</td>\n",
       "      <td>7679.956543</td>\n",
       "      <td>7701.177734</td>\n",
       "      <td>7649.350098</td>\n",
       "    </tr>\n",
       "    <tr>\n",
       "      <th>MLPAP_TJC-0627.PV</th>\n",
       "      <td>OX預熱器出口溫度</td>\n",
       "      <td>151.328049</td>\n",
       "      <td>151.607849</td>\n",
       "      <td>151.109482</td>\n",
       "    </tr>\n",
       "    <tr>\n",
       "      <th>MLPAP_TRC-0610.PV</th>\n",
       "      <td>空氣預熱器出口溫度</td>\n",
       "      <td>183.198715</td>\n",
       "      <td>183.858368</td>\n",
       "      <td>182.448212</td>\n",
       "    </tr>\n",
       "    <tr>\n",
       "      <th>MLPAP_FR-0632.PV</th>\n",
       "      <td>汽機風量</td>\n",
       "      <td>82.710709</td>\n",
       "      <td>82.941414</td>\n",
       "      <td>82.373535</td>\n",
       "    </tr>\n",
       "    <tr>\n",
       "      <th>MLPAP_TJC-0757A.PV</th>\n",
       "      <td>反應槽鹽浴溫度</td>\n",
       "      <td>350.507965</td>\n",
       "      <td>350.986572</td>\n",
       "      <td>350.187653</td>\n",
       "    </tr>\n",
       "    <tr>\n",
       "      <th>MLPAP_PIC-0761.PV</th>\n",
       "      <td>鹽浴冷卻器(E212)出口壓力</td>\n",
       "      <td>48.539288</td>\n",
       "      <td>48.615978</td>\n",
       "      <td>48.460064</td>\n",
       "    </tr>\n",
       "    <tr>\n",
       "      <th>MLPAP_TJC-1721.PV</th>\n",
       "      <td>轉換式冷凝器冷油溫度</td>\n",
       "      <td>58.360004</td>\n",
       "      <td>58.560699</td>\n",
       "      <td>58.171883</td>\n",
       "    </tr>\n",
       "    <tr>\n",
       "      <th>MLPAP_TRC-1734.PV</th>\n",
       "      <td>轉換式冷凝器熱油溫度</td>\n",
       "      <td>180.912781</td>\n",
       "      <td>181.708572</td>\n",
       "      <td>180.166962</td>\n",
       "    </tr>\n",
       "    <tr>\n",
       "      <th>MLPAP_TRC-0747.PV</th>\n",
       "      <td>E220出口溫度</td>\n",
       "      <td>162.900040</td>\n",
       "      <td>163.934555</td>\n",
       "      <td>161.871841</td>\n",
       "    </tr>\n",
       "    <tr>\n",
       "      <th>MLPAP_TJR-0881.PV</th>\n",
       "      <td>液態冷凝器出口溫度</td>\n",
       "      <td>134.565964</td>\n",
       "      <td>135.127716</td>\n",
       "      <td>134.076401</td>\n",
       "    </tr>\n",
       "    <tr>\n",
       "      <th>MLPAP_TJ-0757B.PV</th>\n",
       "      <td>反應槽鹽浴溫度</td>\n",
       "      <td>350.528564</td>\n",
       "      <td>351.029541</td>\n",
       "      <td>350.190613</td>\n",
       "    </tr>\n",
       "    <tr>\n",
       "      <th>濃度</th>\n",
       "      <td>NaN</td>\n",
       "      <td>97.759201</td>\n",
       "      <td>98.742401</td>\n",
       "      <td>97.053123</td>\n",
       "    </tr>\n",
       "  </tbody>\n",
       "</table>\n",
       "</div>"
      ],
      "text/plain": [
       "                            chinese         mean          max          min\n",
       "MLPAP_FQ-0619.PV              OX入料量  7679.956543  7701.177734  7649.350098\n",
       "MLPAP_TJC-0627.PV         OX預熱器出口溫度   151.328049   151.607849   151.109482\n",
       "MLPAP_TRC-0610.PV         空氣預熱器出口溫度   183.198715   183.858368   182.448212\n",
       "MLPAP_FR-0632.PV               汽機風量    82.710709    82.941414    82.373535\n",
       "MLPAP_TJC-0757A.PV          反應槽鹽浴溫度   350.507965   350.986572   350.187653\n",
       "MLPAP_PIC-0761.PV   鹽浴冷卻器(E212)出口壓力    48.539288    48.615978    48.460064\n",
       "MLPAP_TJC-1721.PV        轉換式冷凝器冷油溫度    58.360004    58.560699    58.171883\n",
       "MLPAP_TRC-1734.PV        轉換式冷凝器熱油溫度   180.912781   181.708572   180.166962\n",
       "MLPAP_TRC-0747.PV          E220出口溫度   162.900040   163.934555   161.871841\n",
       "MLPAP_TJR-0881.PV         液態冷凝器出口溫度   134.565964   135.127716   134.076401\n",
       "MLPAP_TJ-0757B.PV           反應槽鹽浴溫度   350.528564   351.029541   350.190613\n",
       "濃度                              NaN    97.759201    98.742401    97.053123"
      ]
     },
     "execution_count": 23,
     "metadata": {},
     "output_type": "execute_result"
    }
   ],
   "source": [
    "advice,output,stream,單耗,蒸氣單耗 = robot.get_advice([0.5,0.5],8000)\n",
    "print('output:',output,'stream:',stream,'單耗',單耗,'蒸氣單耗',蒸氣單耗)\n",
    "advice"
   ]
  },
  {
   "cell_type": "markdown",
   "metadata": {},
   "source": [
    "# save"
   ]
  },
  {
   "cell_type": "code",
   "execution_count": 24,
   "metadata": {},
   "outputs": [
    {
     "data": {
      "text/plain": [
       "['../model/PAagent.pkl']"
      ]
     },
     "execution_count": 24,
     "metadata": {},
     "output_type": "execute_result"
    }
   ],
   "source": [
    "joblib.dump(robot,'../model/PAagent.pkl')"
   ]
  },
  {
   "cell_type": "markdown",
   "metadata": {},
   "source": []
  },
  {
   "cell_type": "code",
   "execution_count": null,
   "metadata": {},
   "outputs": [],
   "source": []
  }
 ],
 "metadata": {
  "kernelspec": {
   "display_name": "Python 3",
   "language": "python",
   "name": "python3"
  },
  "language_info": {
   "codemirror_mode": {
    "name": "ipython",
    "version": 3
   },
   "file_extension": ".py",
   "mimetype": "text/x-python",
   "name": "python",
   "nbconvert_exporter": "python",
   "pygments_lexer": "ipython3",
   "version": "3.8.3"
  }
 },
 "nbformat": 4,
 "nbformat_minor": 2
}
